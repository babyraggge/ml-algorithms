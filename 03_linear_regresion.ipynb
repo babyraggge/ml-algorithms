{
  "nbformat": 4,
  "nbformat_minor": 0,
  "metadata": {
    "colab": {
      "name": "03_linear_regresion.ipynb",
      "provenance": [],
      "authorship_tag": "ABX9TyOTzOCs1AGzBu8D8wpwHztW",
      "include_colab_link": true
    },
    "kernelspec": {
      "name": "python3",
      "display_name": "Python 3"
    },
    "language_info": {
      "name": "python"
    }
  },
  "cells": [
    {
      "cell_type": "markdown",
      "metadata": {
        "id": "view-in-github",
        "colab_type": "text"
      },
      "source": [
        "<a href=\"https://colab.research.google.com/github/babyraggge/ml-algorithms/blob/main/03_linear_regresion.ipynb\" target=\"_parent\"><img src=\"https://colab.research.google.com/assets/colab-badge.svg\" alt=\"Open In Colab\"/></a>"
      ]
    },
    {
      "cell_type": "markdown",
      "metadata": {
        "id": "kSrp14XTnhJw"
      },
      "source": [
        "# Задача 1"
      ]
    },
    {
      "cell_type": "markdown",
      "metadata": {
        "id": "DNgpY7PEnjB_"
      },
      "source": [
        "Построить модель линейной регрессии.\n",
        "\n",
        "-    линейная модель\n",
        "-   полином второй степени\n",
        "-    полином третьей степени\n",
        "-   экспонента\n",
        "\n",
        "Построить графики получившихся функций (линейная, квадратичная, кубическая, экспонента) и тренировочной выборки.\n",
        "\n",
        "-    Посчитать MSE для каждого случая\n",
        "-    Выбрать наилучший вариант (без тестовой выборки)\n",
        "\n",
        "Для решения можете использовать np.linalg.lstsq, np.polyfit, np.poly1d, scipy.stats.linregress, scipy.optimize.curve_fit, sklearn.linear_model.LinearRegression, statsmodels, np.linalg.solve (аналитически) или с помощью стохастического градиентного спуска (написать самостоятельно)."
      ]
    },
    {
      "cell_type": "code",
      "metadata": {
        "id": "QCIfKP-VniUb"
      },
      "source": [
        "import numpy as np\n",
        "import matplotlib.pyplot as plt"
      ],
      "execution_count": 1,
      "outputs": []
    },
    {
      "cell_type": "code",
      "metadata": {
        "id": "9a2n-d5pn48q"
      },
      "source": [
        "y = np.array([12.19, 8.41, 14.68, 8.64, 32.94, 22.61, 45.92, 23.63, 18.59, 36.22, 50.10, 46.22, 23.63, 47.30, 40.03, 56.53, 38.41, 51.47, 6.29, 35.41, 67.79, 74.21, 79.12, 45.10])\n",
        "x = np.linspace(0, 1, num = 24)"
      ],
      "execution_count": 2,
      "outputs": []
    },
    {
      "cell_type": "code",
      "metadata": {
        "id": "P_i7lX9mnzhD",
        "colab": {
          "base_uri": "https://localhost:8080/",
          "height": 265
        },
        "outputId": "34cfe79d-9de9-4dae-e2cf-e31d604aa427"
      },
      "source": [
        "plt.scatter(x, y, label='train set')\n",
        "plt.legend();"
      ],
      "execution_count": 3,
      "outputs": [
        {
          "output_type": "display_data",
          "data": {
            "image/png": "[encoded data removed]",
            "text/plain": [
              "<Figure size 432x288 with 1 Axes>"
            ]
          },
          "metadata": {
            "needs_background": "light"
          }
        }
      ]
    },
    {
      "cell_type": "code",
      "metadata": {
        "id": "x7nMGcEXXdjC"
      },
      "source": [
        "ones_vector = np.ones(len(x))\n",
        "X = np.array(list(zip(ones_vector, x)))\n",
        "W_linear = np.linalg.lstsq(X, y, rcond=None)[0]"
      ],
      "execution_count": 4,
      "outputs": []
    },
    {
      "cell_type": "code",
      "metadata": {
        "id": "uhogc2ticW7X"
      },
      "source": [
        "X = np.array(list(zip(ones_vector, x, x*x)))\n",
        "W_2 = np.linalg.lstsq(X, y, rcond=None)[0]"
      ],
      "execution_count": 5,
      "outputs": []
    },
    {
      "cell_type": "code",
      "metadata": {
        "id": "-k17yj6xcp7n"
      },
      "source": [
        "X = np.array(list(zip(ones_vector, x, x*x, x*x*x)))\n",
        "W_3 = np.linalg.lstsq(X, y, rcond=None)[0]"
      ],
      "execution_count": 6,
      "outputs": []
    },
    {
      "cell_type": "code",
      "metadata": {
        "id": "otojxUkqcuok"
      },
      "source": [
        "W_exp = np.polyfit(x, np.log(y), 1)"
      ],
      "execution_count": 7,
      "outputs": []
    },
    {
      "cell_type": "code",
      "metadata": {
        "id": "HtLvbXSUZWhq"
      },
      "source": [
        "def linear(x, w):\n",
        "    return w[0] + w[1]*x\n",
        "\n",
        "def poly2(x, w): \n",
        "    return w[0] + w[1]*x + w[2]*x*x\n",
        "\n",
        "def poly3(x, w): \n",
        "    return w[0] + w[1]*x + w[2]*x*x + w[3]*x*x*x\n",
        "\n",
        "def exp(x, w):\n",
        "  # y = A * exp(B*x)\n",
        "  # log(y) = log(A) + B*x\n",
        "  return np.exp(w[0]) * np.exp(w[1]*x)"
      ],
      "execution_count": 8,
      "outputs": []
    },
    {
      "cell_type": "code",
      "metadata": {
        "colab": {
          "base_uri": "https://localhost:8080/",
          "height": 265
        },
        "id": "vlxlBBStbjvK",
        "outputId": "eb92da8a-3a02-4f6a-c8be-02b9381d65fd"
      },
      "source": [
        "plt.scatter(x, y, label='train set')\n",
        "plt.plot(x, linear(x, W_linear), label='linear')\n",
        "plt.plot(x, poly2(x, W_2), label='poly2')\n",
        "plt.plot(x, poly3(x, W_3), label='poly3')\n",
        "plt.plot(x, exp(x, W_exp), label='exp')\n",
        "plt.legend();"
      ],
      "execution_count": 9,
      "outputs": [
        {
          "output_type": "display_data",
          "data": {
            "image/png": "[encoded data removed]",
            "text/plain": [
              "<Figure size 432x288 with 1 Axes>"
            ]
          },
          "metadata": {
            "needs_background": "light"
          }
        }
      ]
    },
    {
      "cell_type": "code",
      "metadata": {
        "colab": {
          "base_uri": "https://localhost:8080/"
        },
        "id": "nF9RvvJ7d4Dx",
        "outputId": "748ee590-225a-4969-ec73-78dfd966db28"
      },
      "source": [
        "from sklearn.metrics import mean_squared_error\n",
        "\n",
        "print(\"linear MSE: \", mean_squared_error(y, linear(x, W_linear)))\n",
        "print(\"poly2 MSE: \", mean_squared_error(y, poly2(x, W_2)))\n",
        "print(\"poly3 MSE: \", mean_squared_error(y, poly3(x, W_3)))\n",
        "print(\"exp MSE: \", mean_squared_error(y, exp(x, W_exp)))"
      ],
      "execution_count": 10,
      "outputs": [
        {
          "output_type": "stream",
          "name": "stdout",
          "text": [
            "linear MSE:  213.13469863888886\n",
            "poly2 MSE:  212.59353678557315\n",
            "poly3 MSE:  202.513036590909\n",
            "exp MSE:  482.01611836359854\n"
          ]
        }
      ]
    },
    {
      "cell_type": "markdown",
      "metadata": {
        "id": "jcoPDm2CH6GC"
      },
      "source": [
        "Наилушее обобщение получилось для полинома третьей степени. Среднеквадартичная ошибка составляет 202.5"
      ]
    },
    {
      "cell_type": "markdown",
      "metadata": {
        "id": "uQS_ulgboNux"
      },
      "source": [
        "# Задача 2"
      ]
    },
    {
      "cell_type": "markdown",
      "metadata": {
        "id": "Z9kjT2a4oPTJ"
      },
      "source": [
        "Данные: https://scikit-learn.org/stable/datasets/toy_dataset.html#diabetes-dataset\n",
        "\n",
        "1.    Разделите данные на train/test или используйте кросс-валидацию (можно grid search)\n",
        "\n",
        "2.    Постройте несколько моделей линейной регрессии:\n",
        "\n",
        "-    sklearn.linear_model.LinearRegression\n",
        "-    sklearn.linear_model.Ridge\n",
        "-    sklearn.linear_model.Lasso\n",
        "-    sklearn.linear_model.ElasticNet\n",
        "\n",
        "1.    Для последних трёх вариантов попробуйте разные значения коэффициента регуляризации.\n",
        "2.    Сравните построенные модели по MSE на тестовой выборке (или через кросс-валидацию)\n",
        "3.   Какая модель оказалась наилучшей? Почему?\n"
      ]
    },
    {
      "cell_type": "code",
      "metadata": {
        "id": "T9qfY2h3oqP2"
      },
      "source": [
        "import numpy as np\n",
        "\n",
        "from sklearn import datasets, linear_model\n",
        "from sklearn.model_selection import train_test_split\n",
        "from sklearn.metrics import mean_squared_error, r2_score, make_scorer\n",
        "from sklearn.model_selection import cross_val_score\n",
        "from sklearn.model_selection import GridSearchCV\n",
        "\n",
        "diabetes_X, diabetes_y = datasets.load_diabetes(return_X_y=True)"
      ],
      "execution_count": 11,
      "outputs": []
    },
    {
      "cell_type": "code",
      "metadata": {
        "colab": {
          "base_uri": "https://localhost:8080/"
        },
        "id": "IpHuOBoTozMJ",
        "outputId": "84b2da32-66f4-4add-8fd7-1acef5953c89"
      },
      "source": [
        "diabetes_X.shape"
      ],
      "execution_count": 12,
      "outputs": [
        {
          "output_type": "execute_result",
          "data": {
            "text/plain": [
              "(442, 10)"
            ]
          },
          "metadata": {},
          "execution_count": 12
        }
      ]
    },
    {
      "cell_type": "code",
      "metadata": {
        "id": "C7_y5Rm7o2Ow"
      },
      "source": [
        "X_train, X_test, y_train, y_test = train_test_split(diabetes_X, diabetes_y, test_size=0.3, random_state=0)"
      ],
      "execution_count": 15,
      "outputs": []
    },
    {
      "cell_type": "code",
      "metadata": {
        "id": "CMSGYbnOqtDH"
      },
      "source": [
        "lr = linear_model.LinearRegression()\n",
        "ridge = linear_model.Ridge()\n",
        "lasso = linear_model.Lasso()\n",
        "elastic = linear_model.ElasticNet()"
      ],
      "execution_count": 16,
      "outputs": []
    },
    {
      "cell_type": "code",
      "metadata": {
        "id": "PE1pqp0Vw2ZH"
      },
      "source": [
        "mse_lr_cv = cross_val_score(lr, diabetes_X, diabetes_y, cv=5, scoring=\"neg_mean_squared_error\").mean()"
      ],
      "execution_count": 17,
      "outputs": []
    },
    {
      "cell_type": "code",
      "metadata": {
        "colab": {
          "base_uri": "https://localhost:8080/"
        },
        "id": "w-hKUItxz02H",
        "outputId": "680051bb-6838-488f-ae80-2d1497a7410d"
      },
      "source": [
        "models = [linear_model.Ridge(), linear_model.Lasso()]\n",
        "param_grid = {'alpha': [.00001,.001, .01, .1, 1, 10, 100, 1000, 10000]}\n",
        "for model in models:\n",
        "  grid = GridSearchCV(model, \n",
        "                    param_grid=param_grid,\n",
        "                    scoring=\"neg_mean_squared_error\").fit(X_train, y_train)\n",
        "  print(f\"{type(model)} / {grid.best_params_} with best score: {grid.best_score_}\")\n",
        "\n",
        "mse_ridge_cv = cross_val_score(linear_model.Ridge(alpha=0.1), diabetes_X, diabetes_y, cv=5, scoring=\"neg_mean_squared_error\").mean()\n",
        "mse_lasso_cv = cross_val_score(linear_model.Lasso(alpha=0.1), diabetes_X, diabetes_y, cv=5, scoring=\"neg_mean_squared_error\").mean()"
      ],
      "execution_count": 26,
      "outputs": [
        {
          "output_type": "stream",
          "name": "stdout",
          "text": [
            "<class 'sklearn.linear_model._ridge.Ridge'> / {'alpha': 0.1} with best score: -3005.420882796732\n",
            "<class 'sklearn.linear_model._coordinate_descent.Lasso'> / {'alpha': 0.1} with best score: -3004.1987136257817\n"
          ]
        }
      ]
    },
    {
      "cell_type": "code",
      "metadata": {
        "id": "xph5mZMn1p67"
      },
      "source": [
        "from sklearn.utils.testing import ignore_warnings\n",
        "from sklearn.exceptions import ConvergenceWarning\n",
        "\n",
        "@ignore_warnings(category=ConvergenceWarning)\n",
        "def getElacsticResultsCV(param_grid={\n",
        "    \"alpha\": [.00001,.001, .01, .1, 1, 10, 100, 1000, 10000],\n",
        "    \"l1_ratio\": [0, 0.25, 0.5, 0.75, 1]\n",
        "    }):\n",
        "  grid = GridSearchCV(linear_model.ElasticNet(), \n",
        "                      param_grid=param_grid,\n",
        "                      scoring=\"neg_mean_squared_error\").fit(X_train, y_train)\n",
        "  print(f\"{model} / {grid.best_params_} with best score: {grid.best_score_}\")"
      ],
      "execution_count": 27,
      "outputs": []
    },
    {
      "cell_type": "code",
      "metadata": {
        "id": "bHwP5sMq2fdw",
        "colab": {
          "base_uri": "https://localhost:8080/"
        },
        "outputId": "68065a3c-6ba7-4b44-f45b-09c8640cfc78"
      },
      "source": [
        "getElacsticResultsCV()\n",
        "mse_elastic_cv = cross_val_score(linear_model.ElasticNet(alpha=0.001, l1_ratio=0.75), diabetes_X, diabetes_y, cv=5, scoring=\"neg_mean_squared_error\").mean()"
      ],
      "execution_count": 28,
      "outputs": [
        {
          "output_type": "stream",
          "name": "stdout",
          "text": [
            "Lasso(alpha=1.0, copy_X=True, fit_intercept=True, max_iter=1000,\n",
            "      normalize=False, positive=False, precompute=False, random_state=None,\n",
            "      selection='cyclic', tol=0.0001, warm_start=False) / {'alpha': 0.001, 'l1_ratio': 0.75} with best score: -2998.493848284963\n"
          ]
        }
      ]
    },
    {
      "cell_type": "code",
      "metadata": {
        "colab": {
          "base_uri": "https://localhost:8080/"
        },
        "id": "hm0X7tkoLq1-",
        "outputId": "a443ded4-638c-4df8-db1e-deb1bff02e67"
      },
      "source": [
        "print(\"\")\n",
        "print(\"Linear Regression mean CV MSE: \", mse_lr_cv)\n",
        "print(\"Linear Regression with L2 regularization mean CV MSE: \", mse_ridge_cv)\n",
        "print(\"Linear Regression with L1 regularization mean CV MSE: \", mse_lasso_cv)\n",
        "print(\"ElasticNet mean CV MSE: \", mse_elastic_cv)"
      ],
      "execution_count": 29,
      "outputs": [
        {
          "output_type": "stream",
          "name": "stdout",
          "text": [
            "\n",
            "Linear Regression mean CV MSE:  -2993.0729432998864\n",
            "Linear Regression with L2 regularization mean CV MSE:  -3006.6971771020735\n",
            "Linear Regression with L1 regularization mean CV MSE:  -3008.8922219965725\n",
            "ElasticNet mean CV MSE:  -3004.8521440830787\n"
          ]
        }
      ]
    },
    {
      "cell_type": "code",
      "metadata": {
        "id": "6t2BfdIzNNTx"
      },
      "source": [
        ""
      ],
      "execution_count": null,
      "outputs": []
    }
  ]
}