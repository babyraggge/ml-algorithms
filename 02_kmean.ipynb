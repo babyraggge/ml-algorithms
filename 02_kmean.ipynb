{
  "nbformat": 4,
  "nbformat_minor": 0,
  "metadata": {
    "colab": {
      "name": "02-kmean.ipynb",
      "provenance": [],
      "authorship_tag": "ABX9TyPSH5+BH8aAK/Gr2W66vCMG",
      "include_colab_link": true
    },
    "kernelspec": {
      "name": "python3",
      "display_name": "Python 3"
    },
    "language_info": {
      "name": "python"
    }
  },
  "cells": [
    {
      "cell_type": "markdown",
      "metadata": {
        "id": "view-in-github",
        "colab_type": "text"
      },
      "source": [
        "<a href=\"https://colab.research.google.com/github/babyraggge/ml-algorithms/blob/main/02_kmean.ipynb\" target=\"_parent\"><img src=\"https://colab.research.google.com/assets/colab-badge.svg\" alt=\"Open In Colab\"/></a>"
      ]
    },
    {
      "cell_type": "markdown",
      "metadata": {
        "id": "0_-5Pk0URiXL"
      },
      "source": [
        "# Задание 1"
      ]
    },
    {
      "cell_type": "markdown",
      "metadata": {
        "id": "t4vOGikMReow"
      },
      "source": [
        "- Реализовать kmeans\n",
        "- Визуализировать сходимость центров кластеров\n",
        "- Оценить $SSE$ для значений $k = 1, \\ldots, 10$ и построить график зависимости $SSE$ от количества кластеров."
      ]
    },
    {
      "cell_type": "code",
      "metadata": {
        "colab": {
          "base_uri": "https://localhost:8080/",
          "height": 265
        },
        "id": "Er_P2ix3Ro2U",
        "outputId": "748b99e3-4598-40e7-a7e5-b1b67643c4e4"
      },
      "source": [
        "import numpy as np\n",
        "import pandas as pd\n",
        "import random\n",
        "import matplotlib.pyplot as plt\n",
        "from sklearn.datasets import make_blobs\n",
        "from abc import ABC, abstractmethod\n",
        "from collections import Counter\n",
        "from sklearn.datasets import make_blobs\n",
        "\n",
        "X, Y = make_blobs(n_samples = 1000, n_features=2, centers=5, cluster_std = 1.2, random_state=17)\n",
        "plt.scatter(X[:,0], X[:,1]);"
      ],
      "execution_count": 1,
      "outputs": [
        {
          "output_type": "display_data",
          "data": {
            "image/png": "[encoded data removed]",
            "text/plain": [
              "<Figure size 432x288 with 1 Axes>"
            ]
          },
          "metadata": {
            "needs_background": "light"
          }
        }
      ]
    },
    {
      "cell_type": "code",
      "metadata": {
        "id": "1wAEGGZaRtmF"
      },
      "source": [
        "class BaseEstimator(ABC):\n",
        "  @abstractmethod\n",
        "  def fit(self):\n",
        "    pass\n",
        "\n",
        "  @abstractmethod\n",
        "  def predict(self):\n",
        "    pass"
      ],
      "execution_count": null,
      "outputs": []
    },
    {
      "cell_type": "code",
      "metadata": {
        "id": "8TEQox9xR1i-"
      },
      "source": [
        "class KMeans(BaseEstimator):\n",
        "\n",
        "  def __init__(self, n_clusters=2, eps=.001, max_iter=300, seed=42):\n",
        "    self.n_clusters = n_clusters\n",
        "    self.eps = eps\n",
        "    self.max_iter = max_iter\n",
        "    self.seed = seed\n",
        "\n",
        "  def _euclidean_distance(self, obj, data):\n",
        "    return np.sqrt(np.sum((obj - data) ** 2, axis=1))\n",
        "\n",
        "  def _init_centroids(self, data, k, seed):\n",
        "    np.random.seed(self.seed)\n",
        "    init_indices = np.random.choice(data.shape[0], size=k)\n",
        "    return init_indices\n",
        "\n",
        "  def fit(data):\n",
        "    self.data = data\n",
        "    centroids_inds = _init_centroids(self, self.data, self.k, self.seed)\n",
        "    centroids = self.data[centroids_inds, :]\n",
        "\n",
        "    # for i in range(self.max_iter):\n",
        "    #   # Условие на выход при схождении ...\n",
        "    #   while(centroids - old_centroids)\n",
        "        # for obj in data:\n",
        "        #   distances = self._euclidean_distance(obj, centroids_inds)\n",
        "\n",
        "\n",
        "\n",
        "  def predict():\n",
        "    pass\n",
        "\n"
      ],
      "execution_count": null,
      "outputs": []
    },
    {
      "cell_type": "markdown",
      "metadata": {
        "id": "ObldbjM3CQTv"
      },
      "source": [
        "# Задание 2"
      ]
    },
    {
      "cell_type": "markdown",
      "metadata": {
        "id": "6dD534U5DmnN"
      },
      "source": [
        "Исследуйте данные с помощью pandas. Посмотрите на признаки и их распределения. (Например, постройте график распределения автомобилей по годам, типу топлива и т.д.)\n",
        "1. Кластеризуйте данные с помощью KMeans из sklearn.clustering. \n",
        "2. Кластеризуйте данные с помощью KMeans из sklearn.clustering. Найдите оптимальное число кластеров\n",
        "3. Произведите анализ получившихся кластеров:\n",
        "\n",
        "\n"
      ]
    },
    {
      "cell_type": "code",
      "metadata": {
        "id": "NMOQVzzUDlou",
        "colab": {
          "base_uri": "https://localhost:8080/",
          "height": 206
        },
        "outputId": "7b7aa505-fd0f-45f8-8e0f-3bad62a0024e"
      },
      "source": [
        "import pandas as pd\n",
        "import numpy as np\n",
        "import matplotlib.pyplot as plt\n",
        "import seaborn as sns\n",
        "\n",
        "data_url = 'https://raw.githubusercontent.com/julia-komleva/ml-course-2021/main/data/2.csv'\n",
        "df = pd.read_csv(data_url, encoding='cp1251')\n",
        "df = df.drop(columns=['Модель', 'Цвет'])\n",
        "df.head()"
      ],
      "execution_count": null,
      "outputs": [
        {
          "output_type": "execute_result",
          "data": {
            "text/html": [
              "<div>\n",
              "<style scoped>\n",
              "    .dataframe tbody tr th:only-of-type {\n",
              "        vertical-align: middle;\n",
              "    }\n",
              "\n",
              "    .dataframe tbody tr th {\n",
              "        vertical-align: top;\n",
              "    }\n",
              "\n",
              "    .dataframe thead th {\n",
              "        text-align: right;\n",
              "    }\n",
              "</style>\n",
              "<table border=\"1\" class=\"dataframe\">\n",
              "  <thead>\n",
              "    <tr style=\"text-align: right;\">\n",
              "      <th></th>\n",
              "      <th>Марка</th>\n",
              "      <th>Год</th>\n",
              "      <th>Состояние</th>\n",
              "      <th>Пробег</th>\n",
              "      <th>Объем</th>\n",
              "      <th>Топливо</th>\n",
              "      <th>Мощность</th>\n",
              "      <th>Кузов</th>\n",
              "      <th>Привод</th>\n",
              "      <th>КПП</th>\n",
              "      <th>Руль</th>\n",
              "      <th>Хозяев в ПТС</th>\n",
              "      <th>Цена</th>\n",
              "    </tr>\n",
              "  </thead>\n",
              "  <tbody>\n",
              "    <tr>\n",
              "      <th>0</th>\n",
              "      <td>Volkswagen</td>\n",
              "      <td>2013.0</td>\n",
              "      <td>БУ</td>\n",
              "      <td>42000.0</td>\n",
              "      <td>1200.0</td>\n",
              "      <td>бензин</td>\n",
              "      <td>105.0</td>\n",
              "      <td>хэтчбек</td>\n",
              "      <td>передний</td>\n",
              "      <td>автомат</td>\n",
              "      <td>левый</td>\n",
              "      <td>1 владелец</td>\n",
              "      <td>689196.0</td>\n",
              "    </tr>\n",
              "    <tr>\n",
              "      <th>1</th>\n",
              "      <td>Skoda</td>\n",
              "      <td>2012.0</td>\n",
              "      <td>БУ</td>\n",
              "      <td>62000.0</td>\n",
              "      <td>1800.0</td>\n",
              "      <td>бензин</td>\n",
              "      <td>152.0</td>\n",
              "      <td>кроссовер</td>\n",
              "      <td>полный</td>\n",
              "      <td>механика</td>\n",
              "      <td>левый</td>\n",
              "      <td>1 владелец</td>\n",
              "      <td>639196.0</td>\n",
              "    </tr>\n",
              "    <tr>\n",
              "      <th>2</th>\n",
              "      <td>Renault</td>\n",
              "      <td>2015.0</td>\n",
              "      <td>БУ</td>\n",
              "      <td>4700.0</td>\n",
              "      <td>1600.0</td>\n",
              "      <td>бензин</td>\n",
              "      <td>106.0</td>\n",
              "      <td>хэтчбек</td>\n",
              "      <td>передний</td>\n",
              "      <td>механика</td>\n",
              "      <td>левый</td>\n",
              "      <td>1 владелец</td>\n",
              "      <td>629196.0</td>\n",
              "    </tr>\n",
              "    <tr>\n",
              "      <th>3</th>\n",
              "      <td>Nissan</td>\n",
              "      <td>2012.0</td>\n",
              "      <td>БУ</td>\n",
              "      <td>70000.0</td>\n",
              "      <td>1600.0</td>\n",
              "      <td>бензин</td>\n",
              "      <td>110.0</td>\n",
              "      <td>хэтчбек</td>\n",
              "      <td>передний</td>\n",
              "      <td>автомат</td>\n",
              "      <td>левый</td>\n",
              "      <td>1 владелец</td>\n",
              "      <td>479196.0</td>\n",
              "    </tr>\n",
              "    <tr>\n",
              "      <th>4</th>\n",
              "      <td>УАЗ</td>\n",
              "      <td>2014.0</td>\n",
              "      <td>БУ</td>\n",
              "      <td>50000.0</td>\n",
              "      <td>2700.0</td>\n",
              "      <td>бензин</td>\n",
              "      <td>128.0</td>\n",
              "      <td>внедорожник</td>\n",
              "      <td>полный</td>\n",
              "      <td>механика</td>\n",
              "      <td>левый</td>\n",
              "      <td>1 владелец</td>\n",
              "      <td>599196.0</td>\n",
              "    </tr>\n",
              "  </tbody>\n",
              "</table>\n",
              "</div>"
            ],
            "text/plain": [
              "        Марка     Год Состояние  ...   Руль  Хозяев в ПТС      Цена\n",
              "0  Volkswagen  2013.0        БУ  ...  левый    1 владелец  689196.0\n",
              "1       Skoda  2012.0        БУ  ...  левый    1 владелец  639196.0\n",
              "2     Renault  2015.0        БУ  ...  левый    1 владелец  629196.0\n",
              "3      Nissan  2012.0        БУ  ...  левый    1 владелец  479196.0\n",
              "4         УАЗ  2014.0        БУ  ...  левый    1 владелец  599196.0\n",
              "\n",
              "[5 rows x 13 columns]"
            ]
          },
          "metadata": {},
          "execution_count": 24
        }
      ]
    },
    {
      "cell_type": "code",
      "metadata": {
        "colab": {
          "base_uri": "https://localhost:8080/"
        },
        "id": "9_Z35Odils8d",
        "outputId": "d50b1db1-913d-44ab-8d1e-65684eab346c"
      },
      "source": [
        "df[\"Марка\"].value_counts()"
      ],
      "execution_count": null,
      "outputs": [
        {
          "output_type": "execute_result",
          "data": {
            "text/plain": [
              "ВАЗ                5497\n",
              "Toyota             2700\n",
              "Nissan             2064\n",
              "Hyundai            1897\n",
              "Volkswagen         1885\n",
              "                   ... \n",
              "ВИС                   1\n",
              "Renault Samsung       1\n",
              "Hawtai                1\n",
              "Scion                 1\n",
              "Tianma                1\n",
              "Name: Марка, Length: 92, dtype: int64"
            ]
          },
          "metadata": {},
          "execution_count": 25
        }
      ]
    },
    {
      "cell_type": "code",
      "metadata": {
        "colab": {
          "base_uri": "https://localhost:8080/"
        },
        "id": "j-fmv8l0zSRb",
        "outputId": "1be22058-c379-4f2c-df52-967cb07cd0fd"
      },
      "source": [
        "for col in df.columns:\n",
        "  print(f\"{col}: {df[col].nunique()}\")"
      ],
      "execution_count": null,
      "outputs": [
        {
          "output_type": "stream",
          "name": "stdout",
          "text": [
            "Марка: 92\n",
            "Год: 28\n",
            "Состояние: 1\n",
            "Пробег: 3443\n",
            "Объем: 45\n",
            "Топливо: 5\n",
            "Мощность: 303\n",
            "Кузов: 11\n",
            "Привод: 3\n",
            "КПП: 4\n",
            "Руль: 2\n",
            "Хозяев в ПТС: 3\n",
            "Цена: 1577\n"
          ]
        }
      ]
    },
    {
      "cell_type": "code",
      "metadata": {
        "id": "0rLxTA_PrzeP"
      },
      "source": [
        "df.drop(\"Состояние\", axis=1, inplace=True) # Дисперсия 0, зачем такой признак вообще нужен"
      ],
      "execution_count": null,
      "outputs": []
    },
    {
      "cell_type": "code",
      "metadata": {
        "colab": {
          "base_uri": "https://localhost:8080/"
        },
        "id": "s9m4Kejqmto-",
        "outputId": "42960672-0126-4df8-8b55-d20f293648f2"
      },
      "source": [
        "df.info()"
      ],
      "execution_count": null,
      "outputs": [
        {
          "output_type": "stream",
          "name": "stdout",
          "text": [
            "<class 'pandas.core.frame.DataFrame'>\n",
            "Int64Index: 35019 entries, 0 to 61065\n",
            "Data columns (total 12 columns):\n",
            " #   Column        Non-Null Count  Dtype  \n",
            "---  ------        --------------  -----  \n",
            " 0   Марка         35019 non-null  object \n",
            " 1   Год           35019 non-null  float64\n",
            " 2   Пробег        35019 non-null  float64\n",
            " 3   Объем         35019 non-null  float64\n",
            " 4   Топливо       35019 non-null  object \n",
            " 5   Мощность      35019 non-null  float64\n",
            " 6   Кузов         35019 non-null  object \n",
            " 7   Привод        35019 non-null  object \n",
            " 8   КПП           35019 non-null  object \n",
            " 9   Руль          35019 non-null  object \n",
            " 10  Хозяев в ПТС  35019 non-null  object \n",
            " 11  Цена          35019 non-null  float64\n",
            "dtypes: float64(5), object(7)\n",
            "memory usage: 3.5+ MB\n"
          ]
        }
      ]
    },
    {
      "cell_type": "code",
      "metadata": {
        "id": "_L5bMWvnujTp"
      },
      "source": [
        "num_features = [col for col in df.columns if df[col].dtype == \"float64\"]\n",
        "cat_features = [col for col in df.columns if df[col].dtype == \"object\"]"
      ],
      "execution_count": null,
      "outputs": []
    },
    {
      "cell_type": "code",
      "metadata": {
        "id": "R4Vp0JQW1Jww"
      },
      "source": [
        "from sklearn.preprocessing import StandardScaler, OneHotEncoder, LabelEncoder\n",
        "from sklearn.cluster import KMeans\n",
        "from sklearn.compose import ColumnTransformer\n",
        "from sklearn.pipeline import Pipeline"
      ],
      "execution_count": null,
      "outputs": []
    },
    {
      "cell_type": "code",
      "metadata": {
        "id": "LREghvIrPrCH"
      },
      "source": [
        "def drawSSEPlot(df, n_clusters=8, max_iter=300, tol=1e-04, init='k-means++', n_init=10):\n",
        "    inertia_values = []\n",
        "    for i in range(1, n_clusters+1):\n",
        "        km = KMeans(n_clusters=i, max_iter=max_iter, tol=tol, init=init, n_init=n_init, random_state=1)\n",
        "        km.fit_predict(df)\n",
        "        inertia_values.append(km.inertia_)\n",
        "    fig, ax = plt.subplots(figsize=(8, 6))\n",
        "    plt.plot(range(1, n_clusters+1), inertia_values, color='red')\n",
        "    plt.xlabel('No. of Clusters', fontsize=15)\n",
        "    plt.ylabel('SSE / Inertia', fontsize=15)\n",
        "    plt.title('SSE / Inertia vs No. Of Clusters', fontsize=15)\n",
        "    plt.grid()\n",
        "    plt.show()"
      ],
      "execution_count": null,
      "outputs": []
    },
    {
      "cell_type": "code",
      "metadata": {
        "id": "1ZwkNGwKNPsI"
      },
      "source": [
        "preprocessor = ColumnTransformer(\n",
        "    transformers=[\n",
        "        ('num', StandardScaler(), num_features),\n",
        "        ('cat', OneHotEncoder(handle_unknown='ignore'), cat_features)])"
      ],
      "execution_count": null,
      "outputs": []
    },
    {
      "cell_type": "code",
      "metadata": {
        "colab": {
          "base_uri": "https://localhost:8080/",
          "height": 411
        },
        "id": "9IcgEHsAOesk",
        "outputId": "eb6e15f7-19a3-487b-eb52-39b7a832919e"
      },
      "source": [
        "prep_data = preprocessor.fit_transform(df).toarray()\n",
        "drawSSEPlot(prep_data, 10)\n",
        "# 6 сойдет"
      ],
      "execution_count": null,
      "outputs": [
        {
          "output_type": "display_data",
          "data": {
            "image/png": "[encoded data removed]",
            "text/plain": [
              "<Figure size 576x432 with 1 Axes>"
            ]
          },
          "metadata": {
            "needs_background": "light"
          }
        }
      ]
    },
    {
      "cell_type": "code",
      "metadata": {
        "id": "kC5BnbF0MAQH"
      },
      "source": [
        "# kmean_pipeline = Pipeline(steps=[\n",
        "#                       ('preprocessor', preprocessor),\n",
        "#                       ('clusterizer', KMeans(n_clusters=6))]\n",
        "#                       )"
      ],
      "execution_count": null,
      "outputs": []
    },
    {
      "cell_type": "code",
      "metadata": {
        "id": "cXfeMh0832Zr"
      },
      "source": [
        "def get_clusterization_report(df, km):\n",
        "  clusters = km.fit_predict(prep_data)\n",
        "  df['cluster'] = clusters"
      ],
      "execution_count": null,
      "outputs": []
    },
    {
      "cell_type": "code",
      "metadata": {
        "id": "nlthwDKTMTfA"
      },
      "source": [
        "km = KMeans(n_clusters=4)\n",
        "clusters = km.fit_predict(prep_data)\n",
        "df['cluster'] = clusters"
      ],
      "execution_count": null,
      "outputs": []
    },
    {
      "cell_type": "code",
      "metadata": {
        "id": "L0neE0UlSJTX"
      },
      "source": [
        "df_enc = df.copy(deep=True)\n",
        "labels = []\n",
        "for feature in cat_features:\n",
        "  lenc = LabelEncoder()\n",
        "  df_enc[feature] = lenc.fit_transform(df[feature])\n",
        "  labels.append({i : f for i, f in enumerate(lenc.classes_.tolist())})"
      ],
      "execution_count": null,
      "outputs": []
    },
    {
      "cell_type": "code",
      "metadata": {
        "colab": {
          "base_uri": "https://localhost:8080/"
        },
        "id": "Gyy5nG2AqdBQ",
        "outputId": "e3793beb-3024-453c-ae9c-9e2aef021e91"
      },
      "source": [
        "labels"
      ],
      "execution_count": null,
      "outputs": [
        {
          "output_type": "execute_result",
          "data": {
            "text/plain": [
              "[{0: 'Acura',\n",
              "  1: 'Alfa Romeo',\n",
              "  2: 'Audi',\n",
              "  3: 'BMW',\n",
              "  4: 'BYD',\n",
              "  5: 'Brilliance',\n",
              "  6: 'Buick',\n",
              "  7: 'Cadillac',\n",
              "  8: 'Changan',\n",
              "  9: 'Chery',\n",
              "  10: 'Chevrolet',\n",
              "  11: 'Chrysler',\n",
              "  12: 'Citroen',\n",
              "  13: 'Dacia',\n",
              "  14: 'Daewoo',\n",
              "  15: 'Daihatsu',\n",
              "  16: 'Datsun',\n",
              "  17: 'Derways',\n",
              "  18: 'Dodge',\n",
              "  19: 'DongFeng',\n",
              "  20: 'Doninvest',\n",
              "  21: 'FAW',\n",
              "  22: 'Fiat',\n",
              "  23: 'Ford',\n",
              "  24: 'Foton',\n",
              "  25: 'GMC',\n",
              "  26: 'Geely',\n",
              "  27: 'Great Wall',\n",
              "  28: 'Hafei',\n",
              "  29: 'Haima',\n",
              "  30: 'Haval',\n",
              "  31: 'Hawtai',\n",
              "  32: 'Honda',\n",
              "  33: 'Hummer',\n",
              "  34: 'Hyundai',\n",
              "  35: 'IKCO',\n",
              "  36: 'Infiniti',\n",
              "  37: 'Iran Khodro',\n",
              "  38: 'Isuzu',\n",
              "  39: 'JAC',\n",
              "  40: 'Jaguar',\n",
              "  41: 'Jeep',\n",
              "  42: 'Kia',\n",
              "  43: 'Lancia',\n",
              "  44: 'Land Rover',\n",
              "  45: 'Lexus',\n",
              "  46: 'Lifan',\n",
              "  47: 'Lincoln',\n",
              "  48: 'Luxgen',\n",
              "  49: 'Mazda',\n",
              "  50: 'Mercedes-Benz',\n",
              "  51: 'Mercury',\n",
              "  52: 'Mini',\n",
              "  53: 'Mitsubishi',\n",
              "  54: 'Nissan',\n",
              "  55: 'Oldsmobile',\n",
              "  56: 'Opel',\n",
              "  57: 'Peugeot',\n",
              "  58: 'Pontiac',\n",
              "  59: 'Porsche',\n",
              "  60: 'Ravon',\n",
              "  61: 'Renault',\n",
              "  62: 'Renault Samsung',\n",
              "  63: 'Rover',\n",
              "  64: 'SEAT',\n",
              "  65: 'Saab',\n",
              "  66: 'Samand',\n",
              "  67: 'Saturn',\n",
              "  68: 'Scion',\n",
              "  69: 'Skoda',\n",
              "  70: 'Smart',\n",
              "  71: 'SsangYong',\n",
              "  72: 'Subaru',\n",
              "  73: 'Suzuki',\n",
              "  74: 'Tianma',\n",
              "  75: 'Tianye',\n",
              "  76: 'Toyota',\n",
              "  77: 'Volkswagen',\n",
              "  78: 'Volvo',\n",
              "  79: 'ZX',\n",
              "  80: 'Богдан',\n",
              "  81: 'ВАЗ',\n",
              "  82: 'ВИС',\n",
              "  83: 'ГАЗ',\n",
              "  84: 'ЗАЗ',\n",
              "  85: 'ИЖ',\n",
              "  86: 'ЛуАЗ',\n",
              "  87: 'Москвич',\n",
              "  88: 'СМЗ (СеАЗ)',\n",
              "  89: 'Самоделка',\n",
              "  90: 'ТагАЗ',\n",
              "  91: 'УАЗ'},\n",
              " {0: 'бензин', 1: 'газ', 2: 'гибридный', 3: 'дизель', 4: 'электродвигатель'},\n",
              " {0: 'внедорожник',\n",
              "  1: 'кабриолет',\n",
              "  2: 'кроссовер',\n",
              "  3: 'купе',\n",
              "  4: 'лимузин',\n",
              "  5: 'минивэн',\n",
              "  6: 'пикап',\n",
              "  7: 'родстер',\n",
              "  8: 'седан',\n",
              "  9: 'универсал',\n",
              "  10: 'хэтчбек'},\n",
              " {0: 'задний', 1: 'передний', 2: 'полный'},\n",
              " {0: 'автомат', 1: 'вариатор', 2: 'механика', 3: 'роботизированная'},\n",
              " {0: 'левый', 1: 'правый'},\n",
              " {0: '1 владелец', 1: '2 владельца', 2: '3 и более'}]"
            ]
          },
          "metadata": {},
          "execution_count": 107
        }
      ]
    },
    {
      "cell_type": "code",
      "metadata": {
        "colab": {
          "base_uri": "https://localhost:8080/",
          "height": 280
        },
        "id": "qIDAt5SV0PNQ",
        "outputId": "38882bd8-a31a-4ba0-9ac5-b3cb25627c83"
      },
      "source": [
        "sns.histplot(df_enc['Марка']);"
      ],
      "execution_count": null,
      "outputs": [
        {
          "output_type": "display_data",
          "data": {
            "image/png": "[encoded data removed]",
            "text/plain": [
              "<Figure size 432x288 with 1 Axes>"
            ]
          },
          "metadata": {
            "needs_background": "light"
          }
        }
      ]
    },
    {
      "cell_type": "code",
      "metadata": {
        "colab": {
          "base_uri": "https://localhost:8080/",
          "height": 206
        },
        "id": "5YAXEFeQwDkB",
        "outputId": "21f1b07c-4fd9-40de-e02d-5c7c3898bb25"
      },
      "source": [
        "res = df_enc.groupby(by=\"cluster\").median()\n",
        "res"
      ],
      "execution_count": null,
      "outputs": [
        {
          "output_type": "execute_result",
          "data": {
            "text/html": [
              "<div>\n",
              "<style scoped>\n",
              "    .dataframe tbody tr th:only-of-type {\n",
              "        vertical-align: middle;\n",
              "    }\n",
              "\n",
              "    .dataframe tbody tr th {\n",
              "        vertical-align: top;\n",
              "    }\n",
              "\n",
              "    .dataframe thead th {\n",
              "        text-align: right;\n",
              "    }\n",
              "</style>\n",
              "<table border=\"1\" class=\"dataframe\">\n",
              "  <thead>\n",
              "    <tr style=\"text-align: right;\">\n",
              "      <th></th>\n",
              "      <th>Марка</th>\n",
              "      <th>Год</th>\n",
              "      <th>Пробег</th>\n",
              "      <th>Объем</th>\n",
              "      <th>Топливо</th>\n",
              "      <th>Мощность</th>\n",
              "      <th>Кузов</th>\n",
              "      <th>Привод</th>\n",
              "      <th>КПП</th>\n",
              "      <th>Руль</th>\n",
              "      <th>Хозяев в ПТС</th>\n",
              "      <th>Цена</th>\n",
              "    </tr>\n",
              "    <tr>\n",
              "      <th>cluster</th>\n",
              "      <th></th>\n",
              "      <th></th>\n",
              "      <th></th>\n",
              "      <th></th>\n",
              "      <th></th>\n",
              "      <th></th>\n",
              "      <th></th>\n",
              "      <th></th>\n",
              "      <th></th>\n",
              "      <th></th>\n",
              "      <th></th>\n",
              "      <th></th>\n",
              "    </tr>\n",
              "  </thead>\n",
              "  <tbody>\n",
              "    <tr>\n",
              "      <th>0</th>\n",
              "      <td>61</td>\n",
              "      <td>2006.0</td>\n",
              "      <td>127000.0</td>\n",
              "      <td>1600.0</td>\n",
              "      <td>0</td>\n",
              "      <td>89.0</td>\n",
              "      <td>8</td>\n",
              "      <td>1</td>\n",
              "      <td>2</td>\n",
              "      <td>0</td>\n",
              "      <td>2</td>\n",
              "      <td>185000.0</td>\n",
              "    </tr>\n",
              "    <tr>\n",
              "      <th>1</th>\n",
              "      <td>47</td>\n",
              "      <td>2010.0</td>\n",
              "      <td>106000.0</td>\n",
              "      <td>3000.0</td>\n",
              "      <td>0</td>\n",
              "      <td>225.0</td>\n",
              "      <td>2</td>\n",
              "      <td>2</td>\n",
              "      <td>0</td>\n",
              "      <td>0</td>\n",
              "      <td>1</td>\n",
              "      <td>1059196.0</td>\n",
              "    </tr>\n",
              "    <tr>\n",
              "      <th>2</th>\n",
              "      <td>54</td>\n",
              "      <td>2012.0</td>\n",
              "      <td>70000.0</td>\n",
              "      <td>1600.0</td>\n",
              "      <td>0</td>\n",
              "      <td>123.0</td>\n",
              "      <td>8</td>\n",
              "      <td>1</td>\n",
              "      <td>2</td>\n",
              "      <td>0</td>\n",
              "      <td>0</td>\n",
              "      <td>535000.0</td>\n",
              "    </tr>\n",
              "    <tr>\n",
              "      <th>3</th>\n",
              "      <td>54</td>\n",
              "      <td>2001.0</td>\n",
              "      <td>212000.0</td>\n",
              "      <td>2000.0</td>\n",
              "      <td>0</td>\n",
              "      <td>137.0</td>\n",
              "      <td>8</td>\n",
              "      <td>1</td>\n",
              "      <td>0</td>\n",
              "      <td>0</td>\n",
              "      <td>2</td>\n",
              "      <td>250000.0</td>\n",
              "    </tr>\n",
              "  </tbody>\n",
              "</table>\n",
              "</div>"
            ],
            "text/plain": [
              "         Марка     Год    Пробег   Объем  ...  КПП  Руль  Хозяев в ПТС       Цена\n",
              "cluster                                   ...                                    \n",
              "0           61  2006.0  127000.0  1600.0  ...    2     0             2   185000.0\n",
              "1           47  2010.0  106000.0  3000.0  ...    0     0             1  1059196.0\n",
              "2           54  2012.0   70000.0  1600.0  ...    2     0             0   535000.0\n",
              "3           54  2001.0  212000.0  2000.0  ...    0     0             2   250000.0\n",
              "\n",
              "[4 rows x 12 columns]"
            ]
          },
          "metadata": {},
          "execution_count": 109
        }
      ]
    },
    {
      "cell_type": "code",
      "metadata": {
        "id": "zqmrVY5wwzoY"
      },
      "source": [
        "for feature, dictinary in zip(cat_features, labels):\n",
        "  res[feature] = res[feature].map(dictinary)"
      ],
      "execution_count": null,
      "outputs": []
    },
    {
      "cell_type": "code",
      "metadata": {
        "colab": {
          "base_uri": "https://localhost:8080/",
          "height": 206
        },
        "id": "4l_5leZz3BKY",
        "outputId": "4848a059-0157-48f1-af16-c7acddbc6a89"
      },
      "source": [
        "res"
      ],
      "execution_count": null,
      "outputs": [
        {
          "output_type": "execute_result",
          "data": {
            "text/html": [
              "<div>\n",
              "<style scoped>\n",
              "    .dataframe tbody tr th:only-of-type {\n",
              "        vertical-align: middle;\n",
              "    }\n",
              "\n",
              "    .dataframe tbody tr th {\n",
              "        vertical-align: top;\n",
              "    }\n",
              "\n",
              "    .dataframe thead th {\n",
              "        text-align: right;\n",
              "    }\n",
              "</style>\n",
              "<table border=\"1\" class=\"dataframe\">\n",
              "  <thead>\n",
              "    <tr style=\"text-align: right;\">\n",
              "      <th></th>\n",
              "      <th>Марка</th>\n",
              "      <th>Год</th>\n",
              "      <th>Пробег</th>\n",
              "      <th>Объем</th>\n",
              "      <th>Топливо</th>\n",
              "      <th>Мощность</th>\n",
              "      <th>Кузов</th>\n",
              "      <th>Привод</th>\n",
              "      <th>КПП</th>\n",
              "      <th>Руль</th>\n",
              "      <th>Хозяев в ПТС</th>\n",
              "      <th>Цена</th>\n",
              "    </tr>\n",
              "    <tr>\n",
              "      <th>cluster</th>\n",
              "      <th></th>\n",
              "      <th></th>\n",
              "      <th></th>\n",
              "      <th></th>\n",
              "      <th></th>\n",
              "      <th></th>\n",
              "      <th></th>\n",
              "      <th></th>\n",
              "      <th></th>\n",
              "      <th></th>\n",
              "      <th></th>\n",
              "      <th></th>\n",
              "    </tr>\n",
              "  </thead>\n",
              "  <tbody>\n",
              "    <tr>\n",
              "      <th>0</th>\n",
              "      <td>Renault</td>\n",
              "      <td>2006.0</td>\n",
              "      <td>127000.0</td>\n",
              "      <td>1600.0</td>\n",
              "      <td>бензин</td>\n",
              "      <td>89.0</td>\n",
              "      <td>седан</td>\n",
              "      <td>передний</td>\n",
              "      <td>механика</td>\n",
              "      <td>левый</td>\n",
              "      <td>3 и более</td>\n",
              "      <td>185000.0</td>\n",
              "    </tr>\n",
              "    <tr>\n",
              "      <th>1</th>\n",
              "      <td>Lincoln</td>\n",
              "      <td>2010.0</td>\n",
              "      <td>106000.0</td>\n",
              "      <td>3000.0</td>\n",
              "      <td>бензин</td>\n",
              "      <td>225.0</td>\n",
              "      <td>кроссовер</td>\n",
              "      <td>полный</td>\n",
              "      <td>автомат</td>\n",
              "      <td>левый</td>\n",
              "      <td>2 владельца</td>\n",
              "      <td>1059196.0</td>\n",
              "    </tr>\n",
              "    <tr>\n",
              "      <th>2</th>\n",
              "      <td>Nissan</td>\n",
              "      <td>2012.0</td>\n",
              "      <td>70000.0</td>\n",
              "      <td>1600.0</td>\n",
              "      <td>бензин</td>\n",
              "      <td>123.0</td>\n",
              "      <td>седан</td>\n",
              "      <td>передний</td>\n",
              "      <td>механика</td>\n",
              "      <td>левый</td>\n",
              "      <td>1 владелец</td>\n",
              "      <td>535000.0</td>\n",
              "    </tr>\n",
              "    <tr>\n",
              "      <th>3</th>\n",
              "      <td>Nissan</td>\n",
              "      <td>2001.0</td>\n",
              "      <td>212000.0</td>\n",
              "      <td>2000.0</td>\n",
              "      <td>бензин</td>\n",
              "      <td>137.0</td>\n",
              "      <td>седан</td>\n",
              "      <td>передний</td>\n",
              "      <td>автомат</td>\n",
              "      <td>левый</td>\n",
              "      <td>3 и более</td>\n",
              "      <td>250000.0</td>\n",
              "    </tr>\n",
              "  </tbody>\n",
              "</table>\n",
              "</div>"
            ],
            "text/plain": [
              "           Марка     Год    Пробег  ...   Руль Хозяев в ПТС       Цена\n",
              "cluster                             ...                               \n",
              "0        Renault  2006.0  127000.0  ...  левый    3 и более   185000.0\n",
              "1        Lincoln  2010.0  106000.0  ...  левый  2 владельца  1059196.0\n",
              "2         Nissan  2012.0   70000.0  ...  левый   1 владелец   535000.0\n",
              "3         Nissan  2001.0  212000.0  ...  левый    3 и более   250000.0\n",
              "\n",
              "[4 rows x 12 columns]"
            ]
          },
          "metadata": {},
          "execution_count": 111
        }
      ]
    },
    {
      "cell_type": "code",
      "metadata": {
        "id": "aSQfH4MJ3TWY"
      },
      "source": [
        ""
      ],
      "execution_count": null,
      "outputs": []
    }
  ]
}